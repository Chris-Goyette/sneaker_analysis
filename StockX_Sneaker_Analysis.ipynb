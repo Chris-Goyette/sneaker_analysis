{
 "cells": [
  {
   "cell_type": "markdown",
   "metadata": {},
   "source": [
    "## Project Goals\n",
    "\n",
    "- **Objective:** To fine-tune my sneaker reselling strategy by zeroing in on the most profitable inventory. I aim to dissect StockX sales data to pinpoint the brands, models (silhouettes), variations (colorways), sizes, and other factors that drive the highest sales and profits.\n",
    "\n",
    "- **Secondary Goal:** Beyond deriving actionable business insights, this project serves as a platform to exhibit my proficiency in SQL and data analysis, thereby making a compelling case for my skill set to potential employers."
   ]
  },
  {
   "cell_type": "code",
   "execution_count": 1,
   "metadata": {},
   "outputs": [
    {
     "name": "stdout",
     "output_type": "stream",
     "text": [
      "Collecting package metadata (current_repodata.json): done\n",
      "Solving environment: done\n",
      "\n",
      "\n",
      "==> WARNING: A newer version of conda exists. <==\n",
      "  current version: 23.7.4\n",
      "  latest version: 23.9.0\n",
      "\n",
      "Please update conda by running\n",
      "\n",
      "    $ conda update -n base -c defaults conda\n",
      "\n",
      "Or to minimize the number of packages updated during conda update use\n",
      "\n",
      "     conda install conda=23.9.0\n",
      "\n",
      "\n",
      "\n",
      "# All requested packages already installed.\n",
      "\n",
      "\n",
      "Note: you may need to restart the kernel to use updated packages.\n"
     ]
    }
   ],
   "source": [
    "# install libraries \n",
    "%conda install pandas numpy matplotlib seaborn"
   ]
  },
  {
   "cell_type": "code",
   "execution_count": 2,
   "metadata": {},
   "outputs": [],
   "source": [
    "# import necessary libraries \n",
    "\n",
    "import pandas as pd\n",
    "import numpy as np\n",
    "import matplotlib.pyplot as plt\n",
    "import seaborn as sns"
   ]
  },
  {
   "cell_type": "code",
   "execution_count": 3,
   "metadata": {},
   "outputs": [],
   "source": [
    "# Load the csv data into a dataFrame \n",
    "df = pd.read_csv('./data/StockX-Data-Contest-2019-3 2.csv')"
   ]
  },
  {
   "cell_type": "code",
   "execution_count": 4,
   "metadata": {},
   "outputs": [
    {
     "name": "stdout",
     "output_type": "stream",
     "text": [
      "<class 'pandas.core.frame.DataFrame'>\n",
      "RangeIndex: 99956 entries, 0 to 99955\n",
      "Data columns (total 8 columns):\n",
      " #   Column        Non-Null Count  Dtype  \n",
      "---  ------        --------------  -----  \n",
      " 0   Order Date    99956 non-null  object \n",
      " 1   Brand         99956 non-null  object \n",
      " 2   Sneaker Name  99956 non-null  object \n",
      " 3   Sale Price    99956 non-null  object \n",
      " 4   Retail Price  99956 non-null  object \n",
      " 5   Release Date  99956 non-null  object \n",
      " 6   Shoe Size     99956 non-null  float64\n",
      " 7   Buyer Region  99956 non-null  object \n",
      "dtypes: float64(1), object(7)\n",
      "memory usage: 6.1+ MB\n"
     ]
    }
   ],
   "source": [
    "# Running df.info() will provide us the structural details of the DataFrame, \n",
    "# such as the number of entries, column names, and data types. \n",
    "\n",
    "df.info()"
   ]
  },
  {
   "cell_type": "markdown",
   "metadata": {},
   "source": [
    "### Note\n",
    "- As you can see from the output above, we need to clean some of this data. \n",
    "- Most of the values are of type 'object' \n",
    "- Columns like \"Order Date,\" \"Sale Price,\" \"Release Date,\" and \"Shoe Size\" appear to be numerical data types, but they are currently stored as objects."
   ]
  },
  {
   "cell_type": "code",
   "execution_count": 5,
   "metadata": {},
   "outputs": [
    {
     "data": {
      "text/html": [
       "<div>\n",
       "<style scoped>\n",
       "    .dataframe tbody tr th:only-of-type {\n",
       "        vertical-align: middle;\n",
       "    }\n",
       "\n",
       "    .dataframe tbody tr th {\n",
       "        vertical-align: top;\n",
       "    }\n",
       "\n",
       "    .dataframe thead th {\n",
       "        text-align: right;\n",
       "    }\n",
       "</style>\n",
       "<table border=\"1\" class=\"dataframe\">\n",
       "  <thead>\n",
       "    <tr style=\"text-align: right;\">\n",
       "      <th></th>\n",
       "      <th>Order Date</th>\n",
       "      <th>Brand</th>\n",
       "      <th>Sneaker Name</th>\n",
       "      <th>Sale Price</th>\n",
       "      <th>Retail Price</th>\n",
       "      <th>Release Date</th>\n",
       "      <th>Shoe Size</th>\n",
       "      <th>Buyer Region</th>\n",
       "    </tr>\n",
       "  </thead>\n",
       "  <tbody>\n",
       "    <tr>\n",
       "      <th>0</th>\n",
       "      <td>9/1/17</td>\n",
       "      <td>Yeezy</td>\n",
       "      <td>Adidas-Yeezy-Boost-350-Low-V2-Beluga</td>\n",
       "      <td>$1,097</td>\n",
       "      <td>$220</td>\n",
       "      <td>9/24/16</td>\n",
       "      <td>11.0</td>\n",
       "      <td>California</td>\n",
       "    </tr>\n",
       "    <tr>\n",
       "      <th>1</th>\n",
       "      <td>9/1/17</td>\n",
       "      <td>Yeezy</td>\n",
       "      <td>Adidas-Yeezy-Boost-350-V2-Core-Black-Copper</td>\n",
       "      <td>$685</td>\n",
       "      <td>$220</td>\n",
       "      <td>11/23/16</td>\n",
       "      <td>11.0</td>\n",
       "      <td>California</td>\n",
       "    </tr>\n",
       "    <tr>\n",
       "      <th>2</th>\n",
       "      <td>9/1/17</td>\n",
       "      <td>Yeezy</td>\n",
       "      <td>Adidas-Yeezy-Boost-350-V2-Core-Black-Green</td>\n",
       "      <td>$690</td>\n",
       "      <td>$220</td>\n",
       "      <td>11/23/16</td>\n",
       "      <td>11.0</td>\n",
       "      <td>California</td>\n",
       "    </tr>\n",
       "    <tr>\n",
       "      <th>3</th>\n",
       "      <td>9/1/17</td>\n",
       "      <td>Yeezy</td>\n",
       "      <td>Adidas-Yeezy-Boost-350-V2-Core-Black-Red</td>\n",
       "      <td>$1,075</td>\n",
       "      <td>$220</td>\n",
       "      <td>11/23/16</td>\n",
       "      <td>11.5</td>\n",
       "      <td>Kentucky</td>\n",
       "    </tr>\n",
       "    <tr>\n",
       "      <th>4</th>\n",
       "      <td>9/1/17</td>\n",
       "      <td>Yeezy</td>\n",
       "      <td>Adidas-Yeezy-Boost-350-V2-Core-Black-Red-2017</td>\n",
       "      <td>$828</td>\n",
       "      <td>$220</td>\n",
       "      <td>2/11/17</td>\n",
       "      <td>11.0</td>\n",
       "      <td>Rhode Island</td>\n",
       "    </tr>\n",
       "  </tbody>\n",
       "</table>\n",
       "</div>"
      ],
      "text/plain": [
       "  Order Date   Brand                                   Sneaker Name  \\\n",
       "0     9/1/17   Yeezy           Adidas-Yeezy-Boost-350-Low-V2-Beluga   \n",
       "1     9/1/17   Yeezy    Adidas-Yeezy-Boost-350-V2-Core-Black-Copper   \n",
       "2     9/1/17   Yeezy     Adidas-Yeezy-Boost-350-V2-Core-Black-Green   \n",
       "3     9/1/17   Yeezy       Adidas-Yeezy-Boost-350-V2-Core-Black-Red   \n",
       "4     9/1/17   Yeezy  Adidas-Yeezy-Boost-350-V2-Core-Black-Red-2017   \n",
       "\n",
       "  Sale Price Retail Price Release Date  Shoe Size  Buyer Region  \n",
       "0     $1,097         $220      9/24/16       11.0    California  \n",
       "1       $685         $220     11/23/16       11.0    California  \n",
       "2       $690         $220     11/23/16       11.0    California  \n",
       "3     $1,075         $220     11/23/16       11.5      Kentucky  \n",
       "4       $828         $220      2/11/17       11.0  Rhode Island  "
      ]
     },
     "execution_count": 5,
     "metadata": {},
     "output_type": "execute_result"
    }
   ],
   "source": [
    "# Running df.head() will help us get a visual snapshot of what our data actually looks like \n",
    "df.head()"
   ]
  },
  {
   "cell_type": "markdown",
   "metadata": {},
   "source": [
    "## Data Cleaning \n",
    "- To clean and prep this data for analysis we will be converting the following columns: \n",
    "    - Order Date and Release Date --> DateTime objects \n",
    "    - Sale Price and Retail Price --> Strings to Numerica data values\n",
    "- Lastly, we will check to see if there are any missing values or NaN values"
   ]
  },
  {
   "cell_type": "code",
   "execution_count": 6,
   "metadata": {},
   "outputs": [
    {
     "name": "stderr",
     "output_type": "stream",
     "text": [
      "/var/folders/vw/cxt6ymbx2d9bnhpxnxhthftw0000gn/T/ipykernel_87273/1170682018.py:3: UserWarning: Could not infer format, so each element will be parsed individually, falling back to `dateutil`. To ensure parsing is consistent and as-expected, please specify a format.\n",
      "  df['Order Date'] = pd.to_datetime(df['Order Date'])\n",
      "/var/folders/vw/cxt6ymbx2d9bnhpxnxhthftw0000gn/T/ipykernel_87273/1170682018.py:5: UserWarning: Could not infer format, so each element will be parsed individually, falling back to `dateutil`. To ensure parsing is consistent and as-expected, please specify a format.\n",
      "  df['Release Date'] = pd.to_datetime(df['Release Date'])\n"
     ]
    }
   ],
   "source": [
    "# Convert 'Order Date' and 'Release Date' to DateTime objects\n",
    "\n",
    "df['Order Date'] = pd.to_datetime(df['Order Date'])\n",
    "\n",
    "df['Release Date'] = pd.to_datetime(df['Release Date'])\n"
   ]
  },
  {
   "cell_type": "markdown",
   "metadata": {},
   "source": [
    "### Convert Sale Price and Retail price to Numerical Values \n",
    "- These values are currently strings with dollar signs, which makes numerical analysis impossible."
   ]
  },
  {
   "cell_type": "code",
   "execution_count": 7,
   "metadata": {},
   "outputs": [],
   "source": [
    "# Remove dollar signs and convert to float datatype \n",
    "\n",
    "df['Sale Price'] = df['Sale Price'].str.replace('$', '').str.replace(',', '').astype(float)\n",
    "df['Retail Price'] = df['Retail Price'].str.replace('$', '').str.replace(',', '').astype(float)\n"
   ]
  },
  {
   "cell_type": "code",
   "execution_count": 8,
   "metadata": {},
   "outputs": [
    {
     "name": "stdout",
     "output_type": "stream",
     "text": [
      "<class 'pandas.core.frame.DataFrame'>\n",
      "RangeIndex: 99956 entries, 0 to 99955\n",
      "Data columns (total 8 columns):\n",
      " #   Column        Non-Null Count  Dtype         \n",
      "---  ------        --------------  -----         \n",
      " 0   Order Date    99956 non-null  datetime64[ns]\n",
      " 1   Brand         99956 non-null  object        \n",
      " 2   Sneaker Name  99956 non-null  object        \n",
      " 3   Sale Price    99956 non-null  float64       \n",
      " 4   Retail Price  99956 non-null  float64       \n",
      " 5   Release Date  99956 non-null  datetime64[ns]\n",
      " 6   Shoe Size     99956 non-null  float64       \n",
      " 7   Buyer Region  99956 non-null  object        \n",
      "dtypes: datetime64[ns](2), float64(3), object(3)\n",
      "memory usage: 6.1+ MB\n"
     ]
    }
   ],
   "source": [
    "df.info() # Double check that conversion actually happened  "
   ]
  },
  {
   "cell_type": "markdown",
   "metadata": {},
   "source": [
    "## Exploratory Data Analysis (EDA)\n",
    "- First we will start off with getting an idea of the price distribution of the sales price of the entire data set by plotting histograms. \n",
    "\n"
   ]
  },
  {
   "cell_type": "code",
   "execution_count": 9,
   "metadata": {},
   "outputs": [
    {
     "data": {
      "text/plain": [
       "(0.0, 1200.0)"
      ]
     },
     "execution_count": 9,
     "metadata": {},
     "output_type": "execute_result"
    },
    {
     "data": {
      "image/png": "[encoded data removed]",
      "text/plain": [
       "<Figure size 1200x600 with 2 Axes>"
      ]
     },
     "metadata": {},
     "output_type": "display_data"
    }
   ],
   "source": [
    "# Create a 1x2 grid of subplots (1 row, 2 columns)\n",
    "fig, axes = plt.subplots(1, 2, figsize=(12, 6))\n",
    "\n",
    "# Plot the first histogram on the first subplot (using sns)\n",
    "sns.histplot(df['Sale Price'], bins = 30, color = 'blue', kde = False, ax = axes[0])\n",
    "axes[0].set_title('Histogram Sales Price')\n",
    "axes[0].set_xlabel('Sales Price')\n",
    "axes[0].set_ylabel('Frequency')\n",
    "\n",
    "# Plot vertical mean \n",
    "sales_price_mean = df['Sale Price'].mean()\n",
    "axes[0].axvline(sales_price_mean, color='r', linestyle='--', label='Mean') # axis vertical line \n",
    "\n",
    "# Plot the second histogram on the second subplot (using sns) \n",
    "sns.histplot(df['Sale Price'], bins = 30, color = 'blue', kde = False, ax = axes[1])\n",
    "axes[1].set_title('Sales > $1,000 (Zoomed In)')\n",
    "axes[1].set_xlabel('Sales Price')\n",
    "axes[1].set_ylabel('Frequency')\n",
    "\n",
    "# Zooming in on the data for 2nd plot \n",
    "sales_max = int(df['Sale Price'].max())\n",
    "plt.xlim([1000, sales_max])  # Set x-axis limits\n",
    "plt.ylim([0, 1200]) # Set y-axis limits \n",
    "\n"
   ]
  },
  {
   "cell_type": "markdown",
   "metadata": {},
   "source": [
    "## Sales Price Box Plot\n",
    "\n",
    "Here is a box plot for the same data. Box plots because it gives us a clear understanding of the data's 5-number summary: \n",
    "\n",
    "- Min\n",
    "- First Quartile (25th Percentile)\n",
    "- Median \n",
    "- Third Quartile (75th Percentile)\n",
    "- Max \n",
    "\n",
    "Box Plots also help provide a graphical summary of the dataset's central tendency, spread, and shape\n"
   ]
  },
  {
   "cell_type": "code",
   "execution_count": 10,
   "metadata": {},
   "outputs": [
    {
     "data": {
      "image/png": "[encoded data removed]",
      "text/plain": [
       "<Figure size 640x480 with 1 Axes>"
      ]
     },
     "metadata": {},
     "output_type": "display_data"
    },
    {
     "data": {
      "text/plain": [
       "count    99956.000000\n",
       "mean       446.634719\n",
       "std        255.982969\n",
       "min        186.000000\n",
       "25%        275.000000\n",
       "50%        370.000000\n",
       "75%        540.000000\n",
       "max       4050.000000\n",
       "Name: Sale Price, dtype: float64"
      ]
     },
     "execution_count": 10,
     "metadata": {},
     "output_type": "execute_result"
    }
   ],
   "source": [
    "sns.boxplot(x=df['Sale Price'])\n",
    "plt.title('Distribution of Sales Price')\n",
    "plt.show()\n",
    "\n",
    "# Here is the statistical summary of the \"Sales Price\" as well. \n",
    "df['Sale Price'].describe()"
   ]
  },
  {
   "cell_type": "markdown",
   "metadata": {},
   "source": [
    "## Sales Price Summary: \n",
    "Based on the Sales Price dataset from above we can see taht the biggest sale was $4,050 and the lowest sale was $186. The average sale price was about $446. "
   ]
  },
  {
   "cell_type": "markdown",
   "metadata": {},
   "source": [
    "# More Analysis \n",
    "\n",
    "## Brands & Models Analysis:\n",
    "Create plots to analyze which sneaker brands and models (silhouettes) are generating the most revenue or have the highest resale value."
   ]
  },
  {
   "cell_type": "code",
   "execution_count": 24,
   "metadata": {},
   "outputs": [
    {
     "name": "stdout",
     "output_type": "stream",
     "text": [
      "Brand\n",
      " Yeezy       25980669.0\n",
      "Off-White    18663151.0\n",
      "Name: Sale Price, dtype: float64\n"
     ]
    },
    {
     "data": {
      "image/png": "[encoded data removed]",
      "text/plain": [
       "<Figure size 800x600 with 1 Axes>"
      ]
     },
     "metadata": {},
     "output_type": "display_data"
    }
   ],
   "source": [
    "# Total sales by brand \n",
    "\n",
    "brand_sales_sum = df.groupby('Brand')['Sale Price'].sum().sort_values(ascending=False)\n",
    "print(brand_sales_sum)\n",
    "\n",
    "\n",
    "plt.figure(figsize=(8, 6))\n",
    "sns.barplot(x=brand_sales_sum.index, y=brand_sales_sum.values, palette= 'Set1')\n",
    "\n",
    "plt.title(\"Total Sales by Brand\")\n",
    "plt.xlabel(\"Brand\")\n",
    "plt.ylabel(\"Total Sales (Millions)\")\n",
    "plt.xticks(rotation=45)  # Rotate the x-labels for better visibility\n",
    "plt.yticks(np.arange(0, max(brand_sales_sum.values) + 10000000, 5000000))\n",
    "\n",
    "\n",
    "plt.show()\n",
    "\n",
    "\n",
    "\n"
   ]
  }
 ],
 "metadata": {
  "kernelspec": {
   "display_name": "sneaker_analysis_env",
   "language": "python",
   "name": "python3"
  },
  "language_info": {
   "codemirror_mode": {
    "name": "ipython",
    "version": 3
   },
   "file_extension": ".py",
   "mimetype": "text/x-python",
   "name": "python",
   "nbconvert_exporter": "python",
   "pygments_lexer": "ipython3",
   "version": "3.11.5"
  },
  "orig_nbformat": 4
 },
 "nbformat": 4,
 "nbformat_minor": 2
}
