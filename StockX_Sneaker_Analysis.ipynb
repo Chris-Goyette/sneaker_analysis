{
 "cells": [
  {
   "cell_type": "code",
   "execution_count": 28,
   "metadata": {},
   "outputs": [
    {
     "name": "stdout",
     "output_type": "stream",
     "text": [
      "Collecting package metadata (current_repodata.json): done\n",
      "Solving environment: done\n",
      "\n",
      "# All requested packages already installed.\n",
      "\n",
      "\n",
      "Note: you may need to restart the kernel to use updated packages.\n"
     ]
    }
   ],
   "source": [
    "# install libraries \n",
    "%conda install pandas numpy matplotlib seaborn"
   ]
  },
  {
   "cell_type": "code",
   "execution_count": 29,
   "metadata": {},
   "outputs": [],
   "source": [
    "# import necessary libraries \n",
    "\n",
    "import pandas as pd\n",
    "import numpy as np\n",
    "import matplotlib.pyplot as plt\n",
    "import seaborn as sns"
   ]
  },
  {
   "cell_type": "code",
   "execution_count": 30,
   "metadata": {},
   "outputs": [],
   "source": [
    "# Load the csv data into a dataFrame \n",
    "df = pd.read_csv('./data/StockX-Data-Contest-2019-3 2.csv')"
   ]
  },
  {
   "cell_type": "code",
   "execution_count": 31,
   "metadata": {},
   "outputs": [
    {
     "name": "stdout",
     "output_type": "stream",
     "text": [
      "<class 'pandas.core.frame.DataFrame'>\n",
      "RangeIndex: 99956 entries, 0 to 99955\n",
      "Data columns (total 8 columns):\n",
      " #   Column        Non-Null Count  Dtype  \n",
      "---  ------        --------------  -----  \n",
      " 0   Order Date    99956 non-null  object \n",
      " 1   Brand         99956 non-null  object \n",
      " 2   Sneaker Name  99956 non-null  object \n",
      " 3   Sale Price    99956 non-null  object \n",
      " 4   Retail Price  99956 non-null  object \n",
      " 5   Release Date  99956 non-null  object \n",
      " 6   Shoe Size     99956 non-null  float64\n",
      " 7   Buyer Region  99956 non-null  object \n",
      "dtypes: float64(1), object(7)\n",
      "memory usage: 6.1+ MB\n"
     ]
    }
   ],
   "source": [
    "# Running df.info() will will provide us the structural details of the DataFrame, \n",
    "# such as the number of entries, column names, and data types. \n",
    "\n",
    "df.info()"
   ]
  },
  {
   "cell_type": "markdown",
   "metadata": {},
   "source": [
    "### Note\n",
    "- As you can see from the output above, we need to clean some of this data. \n",
    "- Most of the values are of type 'object' \n",
    "- Columns like \"Order Date,\" \"Sale Price,\" \"Release Date,\" and \"Shoe Size\" appear to be numerical data types, but they are currently stored as objects."
   ]
  },
  {
   "cell_type": "code",
   "execution_count": 32,
   "metadata": {},
   "outputs": [
    {
     "data": {
      "text/html": [
       "<div>\n",
       "<style scoped>\n",
       "    .dataframe tbody tr th:only-of-type {\n",
       "        vertical-align: middle;\n",
       "    }\n",
       "\n",
       "    .dataframe tbody tr th {\n",
       "        vertical-align: top;\n",
       "    }\n",
       "\n",
       "    .dataframe thead th {\n",
       "        text-align: right;\n",
       "    }\n",
       "</style>\n",
       "<table border=\"1\" class=\"dataframe\">\n",
       "  <thead>\n",
       "    <tr style=\"text-align: right;\">\n",
       "      <th></th>\n",
       "      <th>Order Date</th>\n",
       "      <th>Brand</th>\n",
       "      <th>Sneaker Name</th>\n",
       "      <th>Sale Price</th>\n",
       "      <th>Retail Price</th>\n",
       "      <th>Release Date</th>\n",
       "      <th>Shoe Size</th>\n",
       "      <th>Buyer Region</th>\n",
       "    </tr>\n",
       "  </thead>\n",
       "  <tbody>\n",
       "    <tr>\n",
       "      <th>0</th>\n",
       "      <td>9/1/17</td>\n",
       "      <td>Yeezy</td>\n",
       "      <td>Adidas-Yeezy-Boost-350-Low-V2-Beluga</td>\n",
       "      <td>$1,097</td>\n",
       "      <td>$220</td>\n",
       "      <td>9/24/16</td>\n",
       "      <td>11.0</td>\n",
       "      <td>California</td>\n",
       "    </tr>\n",
       "    <tr>\n",
       "      <th>1</th>\n",
       "      <td>9/1/17</td>\n",
       "      <td>Yeezy</td>\n",
       "      <td>Adidas-Yeezy-Boost-350-V2-Core-Black-Copper</td>\n",
       "      <td>$685</td>\n",
       "      <td>$220</td>\n",
       "      <td>11/23/16</td>\n",
       "      <td>11.0</td>\n",
       "      <td>California</td>\n",
       "    </tr>\n",
       "    <tr>\n",
       "      <th>2</th>\n",
       "      <td>9/1/17</td>\n",
       "      <td>Yeezy</td>\n",
       "      <td>Adidas-Yeezy-Boost-350-V2-Core-Black-Green</td>\n",
       "      <td>$690</td>\n",
       "      <td>$220</td>\n",
       "      <td>11/23/16</td>\n",
       "      <td>11.0</td>\n",
       "      <td>California</td>\n",
       "    </tr>\n",
       "    <tr>\n",
       "      <th>3</th>\n",
       "      <td>9/1/17</td>\n",
       "      <td>Yeezy</td>\n",
       "      <td>Adidas-Yeezy-Boost-350-V2-Core-Black-Red</td>\n",
       "      <td>$1,075</td>\n",
       "      <td>$220</td>\n",
       "      <td>11/23/16</td>\n",
       "      <td>11.5</td>\n",
       "      <td>Kentucky</td>\n",
       "    </tr>\n",
       "    <tr>\n",
       "      <th>4</th>\n",
       "      <td>9/1/17</td>\n",
       "      <td>Yeezy</td>\n",
       "      <td>Adidas-Yeezy-Boost-350-V2-Core-Black-Red-2017</td>\n",
       "      <td>$828</td>\n",
       "      <td>$220</td>\n",
       "      <td>2/11/17</td>\n",
       "      <td>11.0</td>\n",
       "      <td>Rhode Island</td>\n",
       "    </tr>\n",
       "  </tbody>\n",
       "</table>\n",
       "</div>"
      ],
      "text/plain": [
       "  Order Date   Brand                                   Sneaker Name  \\\n",
       "0     9/1/17   Yeezy           Adidas-Yeezy-Boost-350-Low-V2-Beluga   \n",
       "1     9/1/17   Yeezy    Adidas-Yeezy-Boost-350-V2-Core-Black-Copper   \n",
       "2     9/1/17   Yeezy     Adidas-Yeezy-Boost-350-V2-Core-Black-Green   \n",
       "3     9/1/17   Yeezy       Adidas-Yeezy-Boost-350-V2-Core-Black-Red   \n",
       "4     9/1/17   Yeezy  Adidas-Yeezy-Boost-350-V2-Core-Black-Red-2017   \n",
       "\n",
       "  Sale Price Retail Price Release Date  Shoe Size  Buyer Region  \n",
       "0     $1,097         $220      9/24/16       11.0    California  \n",
       "1       $685         $220     11/23/16       11.0    California  \n",
       "2       $690         $220     11/23/16       11.0    California  \n",
       "3     $1,075         $220     11/23/16       11.5      Kentucky  \n",
       "4       $828         $220      2/11/17       11.0  Rhode Island  "
      ]
     },
     "execution_count": 32,
     "metadata": {},
     "output_type": "execute_result"
    }
   ],
   "source": [
    "# Running df.head() well help us get a visual snapshot of what our data actually looks like \n",
    "df.head()"
   ]
  },
  {
   "cell_type": "markdown",
   "metadata": {},
   "source": [
    "## Data Cleaning \n",
    "- To clean and prep this data for analysis we will be converting the following columns: \n",
    "    - Order Date and Release Date --> DateTime objects \n",
    "    - Sale Price and Retail Price --> Strings to Numerica data values\n",
    "- Lastly, we will check to see if there are any missing values or NaN values"
   ]
  },
  {
   "cell_type": "code",
   "execution_count": 33,
   "metadata": {},
   "outputs": [
    {
     "name": "stderr",
     "output_type": "stream",
     "text": [
      "/var/folders/vw/cxt6ymbx2d9bnhpxnxhthftw0000gn/T/ipykernel_60337/1170682018.py:3: UserWarning: Could not infer format, so each element will be parsed individually, falling back to `dateutil`. To ensure parsing is consistent and as-expected, please specify a format.\n",
      "  df['Order Date'] = pd.to_datetime(df['Order Date'])\n",
      "/var/folders/vw/cxt6ymbx2d9bnhpxnxhthftw0000gn/T/ipykernel_60337/1170682018.py:5: UserWarning: Could not infer format, so each element will be parsed individually, falling back to `dateutil`. To ensure parsing is consistent and as-expected, please specify a format.\n",
      "  df['Release Date'] = pd.to_datetime(df['Release Date'])\n"
     ]
    }
   ],
   "source": [
    "# Convert 'Order Date' and 'Release Date' to DateTime objects\n",
    "\n",
    "df['Order Date'] = pd.to_datetime(df['Order Date'])\n",
    "\n",
    "df['Release Date'] = pd.to_datetime(df['Release Date'])\n"
   ]
  },
  {
   "cell_type": "markdown",
   "metadata": {},
   "source": [
    "### Convert Sale Price and Retail price to Numerical Values \n",
    "- These values are currently strings with dollar signs, which makes numerical analysis impossible."
   ]
  },
  {
   "cell_type": "code",
   "execution_count": 34,
   "metadata": {},
   "outputs": [
    {
     "name": "stdout",
     "output_type": "stream",
     "text": [
      "<class 'pandas.core.frame.DataFrame'>\n",
      "RangeIndex: 99956 entries, 0 to 99955\n",
      "Data columns (total 8 columns):\n",
      " #   Column        Non-Null Count  Dtype         \n",
      "---  ------        --------------  -----         \n",
      " 0   Order Date    99956 non-null  datetime64[ns]\n",
      " 1   Brand         99956 non-null  object        \n",
      " 2   Sneaker Name  99956 non-null  object        \n",
      " 3   Sale Price    99956 non-null  float64       \n",
      " 4   Retail Price  99956 non-null  float64       \n",
      " 5   Release Date  99956 non-null  datetime64[ns]\n",
      " 6   Shoe Size     99956 non-null  float64       \n",
      " 7   Buyer Region  99956 non-null  object        \n",
      "dtypes: datetime64[ns](2), float64(3), object(3)\n",
      "memory usage: 6.1+ MB\n"
     ]
    }
   ],
   "source": [
    "# Remove dollar signs and convert to float\n",
    "\n",
    "df['Sale Price'] = df['Sale Price'].str.replace('$', '').str.replace(',', '').astype(float)\n",
    "df['Retail Price'] = df['Retail Price'].str.replace('$', '').str.replace(',', '').astype(float)\n"
   ]
  },
  {
   "cell_type": "code",
   "execution_count": 36,
   "metadata": {},
   "outputs": [
    {
     "name": "stdout",
     "output_type": "stream",
     "text": [
      "<class 'pandas.core.frame.DataFrame'>\n",
      "RangeIndex: 99956 entries, 0 to 99955\n",
      "Data columns (total 8 columns):\n",
      " #   Column        Non-Null Count  Dtype         \n",
      "---  ------        --------------  -----         \n",
      " 0   Order Date    99956 non-null  datetime64[ns]\n",
      " 1   Brand         99956 non-null  object        \n",
      " 2   Sneaker Name  99956 non-null  object        \n",
      " 3   Sale Price    99956 non-null  float64       \n",
      " 4   Retail Price  99956 non-null  float64       \n",
      " 5   Release Date  99956 non-null  datetime64[ns]\n",
      " 6   Shoe Size     99956 non-null  float64       \n",
      " 7   Buyer Region  99956 non-null  object        \n",
      "dtypes: datetime64[ns](2), float64(3), object(3)\n",
      "memory usage: 6.1+ MB\n"
     ]
    }
   ],
   "source": [
    "df.info()"
   ]
  },
  {
   "cell_type": "markdown",
   "metadata": {},
   "source": [
    "## Exploratory Data Analysis (EDA)\n",
    "- First we will start off with getting an idea of the price distribution of the sales price of the entire data set \n",
    "and then we will group it by brand. \n",
    "- We will do this by creating a histogram which is great for numerical data. "
   ]
  },
  {
   "cell_type": "code",
   "execution_count": 53,
   "metadata": {},
   "outputs": [
    {
     "data": {
      "image/png": "[encoded data removed]",
      "text/plain": [
       "<Figure size 1000x600 with 1 Axes>"
      ]
     },
     "metadata": {},
     "output_type": "display_data"
    },
    {
     "data": {
      "text/plain": [
       "'\\nExplaination of Code\\n\\n1. max_val = int(df[\\'Sale Price\\'].max())\\n    - df[\\'Sale Price\\'].max() retrieves the maximum value from the \"Sale Price\" column in the DataFrame.\\n    - int(...) rounds this value down to the nearest integer. This is done to ensure that the tick marks are whole numbers.\\n    - The result is stored in a variable called `max_val`.\\n\\n2. plt.xticks(np.arange(0, max_val+1, 100)) \\n    - np.arange(0, max_val+1, 100) creates a NumPy array that starts from 0 and goes up to `max_val + 1`, incrementing by 100 at each step. For example, if `max_val` is 1500, this would generate an array `[0, 100, 200, ..., 1500]`.\\n    - plt.xticks(...) sets these values as the tick marks on the x-axis of the plot.\\n\\nThe reason for `max_val+1` is to include the maximum value in the tick labels. If you just used `max_val`, the maximum value would be excluded from the NumPy array generated by `np.arange()`.\\n\\nIn summary, this code snippet dynamically sets the x-axis tick marks based on the maximum value in the \"Sale Price\" column, with ticks incrementing by 100.\\n\\n'"
      ]
     },
     "execution_count": 53,
     "metadata": {},
     "output_type": "execute_result"
    }
   ],
   "source": [
    "# Histogram via Seaborn \n",
    "\n",
    "# Set the style and size for better visibility\n",
    "sns.set(style=\"whitegrid\")\n",
    "plt.figure(figsize=(10, 6))\n",
    "\n",
    "# Generate the histogram for Sale Price\n",
    "sns.histplot(df['Sale Price'], bins=30, kde=False, color='blue')\n",
    "\n",
    "plt.title('Distribution of Sale Prices')\n",
    "plt.xlabel('Sale Price ($)')\n",
    "plt.ylabel('Frequency')\n",
    "\n",
    "# Customize x-axis tick labels\n",
    "max_val = int(df['Sale Price'].max())\n",
    "plt.xticks(np.arange(0, max_val+1, 500))\n",
    "\n",
    "plt.show()\n",
    "\n",
    "'''\n",
    "Explaination of Code\n",
    "\n",
    "1. max_val = int(df['Sale Price'].max())\n",
    "    - df['Sale Price'].max() retrieves the maximum value from the \"Sale Price\" column in the DataFrame.\n",
    "    - int(...) rounds this value down to the nearest integer. This is done to ensure that the tick marks are whole numbers.\n",
    "    - The result is stored in a variable called `max_val`.\n",
    "\n",
    "2. plt.xticks(np.arange(0, max_val+1, 100)) \n",
    "    - np.arange(0, max_val+1, 100) creates a NumPy array that starts from 0 and goes up to `max_val + 1`, incrementing by 100 at each step. For example, if `max_val` is 1500, this would generate an array `[0, 100, 200, ..., 1500]`.\n",
    "    - plt.xticks(...) sets these values as the tick marks on the x-axis of the plot.\n",
    "\n",
    "The reason for `max_val+1` is to include the maximum value in the tick labels. If you just used `max_val`, the maximum value would be excluded from the NumPy array generated by `np.arange()`.\n",
    "\n",
    "In summary, this code snippet dynamically sets the x-axis tick marks based on the maximum value in the \"Sale Price\" column, with ticks incrementing by 100.\n",
    "\n",
    "'''\n",
    "\n",
    "\n"
   ]
  },
  {
   "cell_type": "code",
   "execution_count": 64,
   "metadata": {},
   "outputs": [
    {
     "data": {
      "image/png": "[encoded data removed]",
      "text/plain": [
       "<Figure size 1000x600 with 1 Axes>"
      ]
     },
     "metadata": {},
     "output_type": "display_data"
    }
   ],
   "source": [
    "# Here is the same data but zoomed in on the outliers\n",
    "# There are the sales that were greater than $1,000\n",
    "\n",
    "\n",
    "plt.figure(figsize=(10, 6))\n",
    "plt.hist(df['Sale Price'], bins=30, color='blue', alpha=0.7, label='Sale Price')\n",
    "plt.title('Distribution of Sale Prices > $1,000')\n",
    "plt.xlabel('Sale Price')\n",
    "plt.ylabel('Frequency')\n",
    "plt.xlim([1000, df['Sale Price'].max()+1])  # Set x-axis limits\n",
    "plt.ylim([0, 1200]) # Set y-axis limits \n",
    "plt.legend()\n",
    "plt.grid(True)\n",
    "plt.show()\n"
   ]
  }
 ],
 "metadata": {
  "kernelspec": {
   "display_name": "sneaker_analysis_env",
   "language": "python",
   "name": "python3"
  },
  "language_info": {
   "codemirror_mode": {
    "name": "ipython",
    "version": 3
   },
   "file_extension": ".py",
   "mimetype": "text/x-python",
   "name": "python",
   "nbconvert_exporter": "python",
   "pygments_lexer": "ipython3",
   "version": "3.11.5"
  },
  "orig_nbformat": 4
 },
 "nbformat": 4,
 "nbformat_minor": 2
}
